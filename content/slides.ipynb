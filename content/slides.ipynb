{
 "cells": [
  {
   "cell_type": "markdown",
   "id": "0ea00229-ca61-4c19-bbc6-78dcd6122d24",
   "metadata": {},
   "source": [
    "<iframe src=\"https://docs.google.com/presentation/d/e/2PACX-1vQCsoAM5ogL36qMaDS5MpsuffXhZBomBhrlbvP_h2GV4fnfQ5nOQRkZcJUbGL-7H76UeB5Hhr2m80iB/embed?start=false&loop=false&delayms=3000\" frameborder=\"0\" width=\"960\" height=\"569\" allowfullscreen=\"true\" mozallowfullscreen=\"true\" webkitallowfullscreen=\"true\"></iframe>"
   ]
  },
  {
   "cell_type": "markdown",
   "id": "393acdbd-0ce8-40dd-915b-14ef5fc514c7",
   "metadata": {},
   "source": [
    "![Title: Right to Reproducible Execution](./assets/title-right-to-reproducible-execution.png)"
   ]
  },
  {
   "cell_type": "markdown",
   "id": "8fcb2f7c-4933-4778-80a8-b2c9c088db6d",
   "metadata": {},
   "source": [
    "## Slides \n",
    "\n",
    "Click the power button to launch Binder.OpenSci in the background. \n",
    "\n",
    "The click the play button to render the embedded slides.\n",
    "\n",
    "The slides can also be accessed by [clicking here](https://docs.google.com/presentation/d/1puDRIrvx2yFMtHPyFNoIuZ_3QQjuPDZwg1RutOe5FXc/edit?usp=sharing)."
   ]
  },
  {
   "cell_type": "code",
   "execution_count": 2,
   "id": "6a7298d0-11fd-494a-b19d-74e60c5116dd",
   "metadata": {},
   "outputs": [
    {
     "data": {
      "image/jpeg": "[encoded data removed]",
      "text/html": [
       "\n",
       "        <iframe\n",
       "            width=\"800\"\n",
       "            height=\"450\"\n",
       "            src=\"https://www.youtube.com/embed/D5s2HbaulZw?align=center\"\n",
       "            frameborder=\"0\"\n",
       "            allowfullscreen\n",
       "            \n",
       "        ></iframe>\n",
       "        "
      ],
      "text/plain": [
       "<IPython.lib.display.YouTubeVideo at 0x7fb6008cf070>"
      ]
     },
     "execution_count": 2,
     "metadata": {},
     "output_type": "execute_result"
    }
   ],
   "source": [
    "## Video\n",
    "\n",
    "from IPython.display import YouTubeVideo\n",
    "\n",
    "YouTubeVideo('D5s2HbaulZw', width=800, height=450, align='center')"
   ]
  },
  {
   "cell_type": "code",
   "execution_count": 4,
   "id": "4475a778-6d12-475a-82ae-5e13e2cdb721",
   "metadata": {
    "scrolled": true
   },
   "outputs": [
    {
     "data": {
      "text/html": [
       "<iframe src=\"https://docs.google.com/presentation/d/e/2PACX-1vQCsoAM5ogL36qMaDS5MpsuffXhZBomBhrlbvP_h2GV4fnfQ5nOQRkZcJUbGL-7H76UeB5Hhr2m80iB/embed?start=false&loop=false&delayms=3000\" frameborder=\"0\" width=\"800\" height=\"450\" allowfullscreen=\"true\" mozallowfullscreen=\"true\" webkitallowfullscreen=\"true\"></iframe>\n"
      ],
      "text/plain": [
       "<IPython.core.display.HTML object>"
      ]
     },
     "metadata": {},
     "output_type": "display_data"
    }
   ],
   "source": [
    "%%html\n",
    "<iframe src=\"https://docs.google.com/presentation/d/e/2PACX-1vQCsoAM5ogL36qMaDS5MpsuffXhZBomBhrlbvP_h2GV4fnfQ5nOQRkZcJUbGL-7H76UeB5Hhr2m80iB/embed?start=false&loop=false&delayms=3000\" frameborder=\"0\" width=\"800\" height=\"450\" allowfullscreen=\"true\" mozallowfullscreen=\"true\" webkitallowfullscreen=\"true\"></iframe>\n"
   ]
  },
  {
   "cell_type": "markdown",
   "id": "46340527-c7ee-443d-aa74-b72e0601449f",
   "metadata": {},
   "source": [
    "![Broadcast Idea Frictionless Reproducibility](./assets/broadcast.png)"
   ]
  },
  {
   "cell_type": "code",
   "execution_count": null,
   "id": "7fb075bf-0afe-4a9d-bea9-fbedf17f77b8",
   "metadata": {},
   "outputs": [],
   "source": []
  }
 ],
 "metadata": {
  "kernelspec": {
   "display_name": "Python 3 (ipykernel)",
   "language": "python",
   "name": "python3"
  },
  "language_info": {
   "codemirror_mode": {
    "name": "ipython",
    "version": 3
   },
   "file_extension": ".py",
   "mimetype": "text/x-python",
   "name": "python",
   "nbconvert_exporter": "python",
   "pygments_lexer": "ipython3",
   "version": "3.10.12"
  }
 },
 "nbformat": 4,
 "nbformat_minor": 5
}
