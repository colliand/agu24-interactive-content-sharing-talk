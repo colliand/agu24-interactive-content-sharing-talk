{
 "cells": [
  {
   "cell_type": "markdown",
   "id": "67e10f67-17a7-4c54-a6b2-0eb6b835f3fb",
   "metadata": {
    "@deathbeds/jupyterlab-fonts": {
     "styles": {
      "": {
       "body[data-jp-deck-mode='presenting'] &": {
        "zoom": "102%"
       }
      }
     }
    },
    "editable": true,
    "jupyterlab-deck": {
     "layer": "deck"
    },
    "slideshow": {
     "slide_type": "slide"
    },
    "tags": []
   },
   "source": [
    "![slide-1](./assets/agu24-1.png)"
   ]
  },
  {
   "cell_type": "markdown",
   "id": "030779d2-d92e-463d-932a-9c2c7e0069a5",
   "metadata": {
    "@deathbeds/jupyterlab-fonts": {
     "styles": {
      "": {
       "body[data-jp-deck-mode='presenting'] &": {
        "opacity": "100%"
       }
      }
     }
    },
    "editable": true,
    "jupyterlab-deck": {
     "layer": null
    },
    "slideshow": {
     "slide_type": "slide"
    },
    "tags": []
   },
   "source": [
    "![slide-2](./assets/agu24-2.png)"
   ]
  },
  {
   "cell_type": "markdown",
   "id": "5a7f81d8-9b9e-42e7-98c1-96137f4f4d22",
   "metadata": {
    "editable": true,
    "slideshow": {
     "slide_type": "slide"
    },
    "tags": []
   },
   "source": [
    "![slide-3](./assets/agu24-3.png)"
   ]
  },
  {
   "cell_type": "markdown",
   "id": "caffb96d-45f4-4d2a-b7b0-09da9c232731",
   "metadata": {
    "editable": true,
    "slideshow": {
     "slide_type": "slide"
    },
    "tags": []
   },
   "source": [
    "![slide-4](./assets/agu24-4.png)"
   ]
  },
  {
   "cell_type": "markdown",
   "id": "6887460c-ea32-494f-b71e-9200382b5f9b",
   "metadata": {
    "editable": true,
    "slideshow": {
     "slide_type": "slide"
    },
    "tags": []
   },
   "source": [
    "![slide-5](./assets/agu24-5.png)"
   ]
  },
  {
   "cell_type": "markdown",
   "id": "a8faa732-7eac-4bc6-aa3a-afd425a2f3bb",
   "metadata": {
    "editable": true,
    "slideshow": {
     "slide_type": "slide"
    },
    "tags": []
   },
   "source": [
    "![slide-6](./assets/agu24-6.png)"
   ]
  },
  {
   "cell_type": "markdown",
   "id": "2472b5e5-b814-4888-99e2-752a95ab929d",
   "metadata": {
    "editable": true,
    "slideshow": {
     "slide_type": "slide"
    },
    "tags": []
   },
   "source": [
    "![slide-7](./assets/agu24-7.png)"
   ]
  },
  {
   "cell_type": "markdown",
   "id": "441548f5-214a-4dc7-bac6-2b10699c6fe4",
   "metadata": {
    "editable": true,
    "slideshow": {
     "slide_type": "slide"
    },
    "tags": []
   },
   "source": [
    "![slide-8](./assets/agu24-8.png)"
   ]
  },
  {
   "cell_type": "markdown",
   "id": "5a5746f2-15c8-4dcf-9dc8-0c2f1b08f136",
   "metadata": {
    "editable": true,
    "slideshow": {
     "slide_type": "slide"
    },
    "tags": []
   },
   "source": [
    "![slide-9](./assets/agu24-9.png)"
   ]
  },
  {
   "cell_type": "markdown",
   "id": "57b375dd-bacf-4789-861c-df00464f4afb",
   "metadata": {
    "editable": true,
    "slideshow": {
     "slide_type": "slide"
    },
    "tags": []
   },
   "source": [
    "![slide-10](./assets/agu24-10.png)"
   ]
  },
  {
   "cell_type": "markdown",
   "id": "58f64be3-0c0f-49da-b91a-da911a5aec3b",
   "metadata": {
    "editable": true,
    "slideshow": {
     "slide_type": "slide"
    },
    "tags": []
   },
   "source": [
    "![slide-11](./assets/agu24-11.png)"
   ]
  },
  {
   "cell_type": "markdown",
   "id": "320f3b91-e9c3-4bee-a1fd-a654111eee61",
   "metadata": {
    "editable": true,
    "slideshow": {
     "slide_type": "slide"
    },
    "tags": []
   },
   "source": [
    "![slide-12](./assets/agu24-12.png)"
   ]
  },
  {
   "cell_type": "markdown",
   "id": "349f145a-c4d5-4c8e-a6e1-4354e8ac6ec4",
   "metadata": {
    "editable": true,
    "slideshow": {
     "slide_type": "slide"
    },
    "tags": []
   },
   "source": [
    "![slide-13](./assets/agu24-13.png)"
   ]
  },
  {
   "cell_type": "markdown",
   "id": "20cf416c-608d-4dd4-aa4b-f0a2b2a62e53",
   "metadata": {
    "editable": true,
    "slideshow": {
     "slide_type": "slide"
    },
    "tags": []
   },
   "source": [
    "![slide-14](./assets/agu24-14.png)"
   ]
  },
  {
   "cell_type": "markdown",
   "id": "a7d39a78-e7e6-49c1-933b-9fb100f6e99f",
   "metadata": {
    "editable": true,
    "slideshow": {
     "slide_type": "slide"
    },
    "tags": []
   },
   "source": [
    "![slide-15](./assets/agu24-15.png)"
   ]
  },
  {
   "cell_type": "markdown",
   "id": "52d2e913-0d7a-4bde-9cac-e1b408c343b7",
   "metadata": {
    "editable": true,
    "slideshow": {
     "slide_type": "slide"
    },
    "tags": []
   },
   "source": [
    "![slide-16](./assets/agu24-16.png)"
   ]
  }
 ],
 "metadata": {
  "kernelspec": {
   "display_name": "Python 3 (ipykernel)",
   "language": "python",
   "name": "python3"
  },
  "language_info": {
   "codemirror_mode": {
    "name": "ipython",
    "version": 3
   },
   "file_extension": ".py",
   "mimetype": "text/x-python",
   "name": "python",
   "nbconvert_exporter": "python",
   "pygments_lexer": "ipython3",
   "version": "3.10.12"
  }
 },
 "nbformat": 4,
 "nbformat_minor": 5
}
